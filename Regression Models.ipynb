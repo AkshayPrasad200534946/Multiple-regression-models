{
 "cells": [
  {
   "cell_type": "markdown",
   "id": "87785285",
   "metadata": {},
   "source": [
    "# Questionn 1"
   ]
  },
  {
   "cell_type": "code",
   "execution_count": 1,
   "id": "d0bd0e57",
   "metadata": {},
   "outputs": [
    {
     "name": "stdout",
     "output_type": "stream",
     "text": [
      "Step 1: Dataset split into training and test sets\n"
     ]
    }
   ],
   "source": [
    "import numpy as np\n",
    "import matplotlib.pyplot as plt\n",
    "from sklearn.datasets import load_iris\n",
    "from sklearn.model_selection import train_test_split\n",
    "from sklearn.linear_model import LogisticRegression\n",
    "from sklearn.tree import DecisionTreeClassifier\n",
    "from sklearn.ensemble import RandomForestClassifier\n",
    "from sklearn.naive_bayes import GaussianNB\n",
    "from sklearn.metrics import accuracy_score, f1_score\n",
    "\n",
    "# Load the Iris dataset\n",
    "iris = load_iris()\n",
    "X, y = iris.data, iris.target\n",
    "\n",
    "# Split the data into training and test sets (80% training, 20% test)\n",
    "X_train, X_test, y_train, y_test = train_test_split(X, y, test_size=0.2, random_state=42)\n",
    "print(\"Step 1: Dataset split into training and test sets\")"
   ]
  },
  {
   "cell_type": "markdown",
   "id": "46c573d8",
   "metadata": {},
   "source": [
    "1.2 From the training set only take 5% of the data and train the supervised learning models (Logistic Regression,\n",
    "Decision Trees, Random Forest, and Naive Bayes) and test it on the test set created in the previous step.\n",
    "\n",
    "1.3 . Repeat the training again with adding 5% training data every time until you use the whole training set.\n",
    "\n",
    "1.4 In every training, test your models on the 20% of the test set and store the accuracy and f1-score of the model."
   ]
  },
  {
   "cell_type": "code",
   "execution_count": 2,
   "id": "279757a7",
   "metadata": {},
   "outputs": [
    {
     "name": "stdout",
     "output_type": "stream",
     "text": [
      "Step 2-4: Training and testing with 5% of training data\n",
      "Step 2-4: Training and testing with 10% of training data\n",
      "Step 2-4: Training and testing with 15% of training data\n",
      "Step 2-4: Training and testing with 20% of training data\n",
      "Step 2-4: Training and testing with 25% of training data\n",
      "Step 2-4: Training and testing with 30% of training data\n",
      "Step 2-4: Training and testing with 35% of training data\n",
      "Step 2-4: Training and testing with 40% of training data\n",
      "Step 2-4: Training and testing with 45% of training data\n",
      "Step 2-4: Training and testing with 50% of training data\n",
      "Step 2-4: Training and testing with 55% of training data\n",
      "Step 2-4: Training and testing with 60% of training data\n",
      "Step 2-4: Training and testing with 65% of training data\n"
     ]
    },
    {
     "name": "stderr",
     "output_type": "stream",
     "text": [
      "C:\\Users\\aksha\\anaconda3\\lib\\site-packages\\sklearn\\linear_model\\_logistic.py:814: ConvergenceWarning: lbfgs failed to converge (status=1):\n",
      "STOP: TOTAL NO. of ITERATIONS REACHED LIMIT.\n",
      "\n",
      "Increase the number of iterations (max_iter) or scale the data as shown in:\n",
      "    https://scikit-learn.org/stable/modules/preprocessing.html\n",
      "Please also refer to the documentation for alternative solver options:\n",
      "    https://scikit-learn.org/stable/modules/linear_model.html#logistic-regression\n",
      "  n_iter_i = _check_optimize_result(\n",
      "C:\\Users\\aksha\\anaconda3\\lib\\site-packages\\sklearn\\linear_model\\_logistic.py:814: ConvergenceWarning: lbfgs failed to converge (status=1):\n",
      "STOP: TOTAL NO. of ITERATIONS REACHED LIMIT.\n",
      "\n",
      "Increase the number of iterations (max_iter) or scale the data as shown in:\n",
      "    https://scikit-learn.org/stable/modules/preprocessing.html\n",
      "Please also refer to the documentation for alternative solver options:\n",
      "    https://scikit-learn.org/stable/modules/linear_model.html#logistic-regression\n",
      "  n_iter_i = _check_optimize_result(\n"
     ]
    },
    {
     "name": "stdout",
     "output_type": "stream",
     "text": [
      "Step 2-4: Training and testing with 70% of training data\n",
      "Step 2-4: Training and testing with 75% of training data\n",
      "Step 2-4: Training and testing with 80% of training data\n"
     ]
    },
    {
     "name": "stderr",
     "output_type": "stream",
     "text": [
      "C:\\Users\\aksha\\anaconda3\\lib\\site-packages\\sklearn\\linear_model\\_logistic.py:814: ConvergenceWarning: lbfgs failed to converge (status=1):\n",
      "STOP: TOTAL NO. of ITERATIONS REACHED LIMIT.\n",
      "\n",
      "Increase the number of iterations (max_iter) or scale the data as shown in:\n",
      "    https://scikit-learn.org/stable/modules/preprocessing.html\n",
      "Please also refer to the documentation for alternative solver options:\n",
      "    https://scikit-learn.org/stable/modules/linear_model.html#logistic-regression\n",
      "  n_iter_i = _check_optimize_result(\n"
     ]
    },
    {
     "name": "stdout",
     "output_type": "stream",
     "text": [
      "Step 2-4: Training and testing with 85% of training data\n",
      "Step 2-4: Training and testing with 90% of training data\n",
      "Step 2-4: Training and testing with 95% of training data\n",
      "Step 2-4: Training and testing with 100% of training data\n"
     ]
    },
    {
     "name": "stderr",
     "output_type": "stream",
     "text": [
      "C:\\Users\\aksha\\anaconda3\\lib\\site-packages\\sklearn\\linear_model\\_logistic.py:814: ConvergenceWarning: lbfgs failed to converge (status=1):\n",
      "STOP: TOTAL NO. of ITERATIONS REACHED LIMIT.\n",
      "\n",
      "Increase the number of iterations (max_iter) or scale the data as shown in:\n",
      "    https://scikit-learn.org/stable/modules/preprocessing.html\n",
      "Please also refer to the documentation for alternative solver options:\n",
      "    https://scikit-learn.org/stable/modules/linear_model.html#logistic-regression\n",
      "  n_iter_i = _check_optimize_result(\n",
      "C:\\Users\\aksha\\anaconda3\\lib\\site-packages\\sklearn\\linear_model\\_logistic.py:814: ConvergenceWarning: lbfgs failed to converge (status=1):\n",
      "STOP: TOTAL NO. of ITERATIONS REACHED LIMIT.\n",
      "\n",
      "Increase the number of iterations (max_iter) or scale the data as shown in:\n",
      "    https://scikit-learn.org/stable/modules/preprocessing.html\n",
      "Please also refer to the documentation for alternative solver options:\n",
      "    https://scikit-learn.org/stable/modules/linear_model.html#logistic-regression\n",
      "  n_iter_i = _check_optimize_result(\n"
     ]
    }
   ],
   "source": [
    "# Initialize models\n",
    "models = {\n",
    "    \"Logistic Regression\": LogisticRegression(),\n",
    "    \"Decision Tree\": DecisionTreeClassifier(),\n",
    "    \"Random Forest\": RandomForestClassifier(),\n",
    "    \"Naive Bayes\": GaussianNB()\n",
    "}\n",
    "\n",
    "# Initialize dictionaries to store accuracy and f1-score for each model\n",
    "accuracy_scores = {model_name: [] for model_name in models}\n",
    "f1_scores = {model_name: [] for model_name in models}\n",
    "\n",
    "# Create an array of training data sizes from 5% to 100% in steps of 5%\n",
    "train_sizes = np.arange(0.05, 1.01, 0.05)\n",
    "\n",
    "# Loop over different training data sizes\n",
    "for train_size in train_sizes:\n",
    "    num_samples = int(len(X_train) * train_size)\n",
    "    X_train_subset = X_train[:num_samples]\n",
    "    y_train_subset = y_train[:num_samples]\n",
    "    \n",
    "    # Loop over different models\n",
    "    for model_name, model in models.items():\n",
    "        model.fit(X_train_subset, y_train_subset)\n",
    "        y_pred = model.predict(X_test)\n",
    "        \n",
    "        accuracy = accuracy_score(y_test, y_pred)\n",
    "        f1 = f1_score(y_test, y_pred, average=\"weighted\")\n",
    "        \n",
    "        accuracy_scores[model_name].append(accuracy)\n",
    "        f1_scores[model_name].append(f1)\n",
    "    \n",
    "    print(f\"Step 2-4: Training and testing with {train_size*100:.0f}% of training data\")"
   ]
  },
  {
   "cell_type": "markdown",
   "id": "48208f88",
   "metadata": {},
   "source": [
    "Ploting the graph"
   ]
  },
  {
   "cell_type": "code",
   "execution_count": 3,
   "id": "525cba75",
   "metadata": {},
   "outputs": [
    {
     "data": {
      "image/png": "[encoded data removed]",
      "text/plain": [
       "<Figure size 720x432 with 1 Axes>"
      ]
     },
     "metadata": {
      "needs_background": "light"
     },
     "output_type": "display_data"
    },
    {
     "name": "stdout",
     "output_type": "stream",
     "text": [
      "Step 5: Plotting Accuracy and F1-score vs Training Data Size\n"
     ]
    }
   ],
   "source": [
    "# Ploting accuracy and f1-score for each model\n",
    "plt.figure(figsize=(10, 6))\n",
    "for model_name in models:\n",
    "    plt.plot(train_sizes * 100, accuracy_scores[model_name], label=f\"{model_name} (Accuracy)\")\n",
    "    plt.plot(train_sizes * 100, f1_scores[model_name], label=f\"{model_name} (F1-score)\")\n",
    "\n",
    "plt.title(\"Accuracy and F1-score vs Training Data Size\")\n",
    "plt.xlabel(\"Training Data Size (%)\")\n",
    "plt.ylabel(\"Score\")\n",
    "plt.legend()\n",
    "plt.grid()\n",
    "plt.show()\n",
    "print(\"Step 5: Plotting Accuracy and F1-score vs Training Data Size\")"
   ]
  },
  {
   "cell_type": "markdown",
   "id": "bb9288d0",
   "metadata": {},
   "source": [
    "# Question 2"
   ]
  },
  {
   "cell_type": "code",
   "execution_count": 4,
   "id": "acecf786",
   "metadata": {},
   "outputs": [
    {
     "name": "stdout",
     "output_type": "stream",
     "text": [
      "Step 1: Linear Regression Model\n",
      "w0: 5.768549422336328\n",
      "w1: -1.6811617458279842\n"
     ]
    }
   ],
   "source": [
    "import numpy as np\n",
    "\n",
    "# Given training data\n",
    "X = np.array([-1.4, -1.6, -1.3, 0.2, 2.0, -1.1, 0.0, 0.3, -0.9, -1.8])\n",
    "r = np.array([6.9, 7.8, 8.0, 5.8, 1.9, 7.3, 5.8, 5.8, 8.2, 9.6])\n",
    "\n",
    "# Step 1: Fit a Linear Regression Model\n",
    "X_bar = np.mean(X)\n",
    "r_bar = np.mean(r)\n",
    "\n",
    "w1_num = np.sum((X - X_bar) * (r - r_bar))\n",
    "w1_den = np.sum((X - X_bar)**2)\n",
    "w1 = w1_num / w1_den\n",
    "\n",
    "w0 = r_bar - w1 * X_bar\n",
    "\n",
    "print(\"Step 1: Linear Regression Model\")\n",
    "print(\"w0:\", w0)\n",
    "print(\"w1:\", w1)"
   ]
  },
  {
   "cell_type": "markdown",
   "id": "f0c7e4d7",
   "metadata": {},
   "source": [
    "2.2 Compute root mean squared error (RMSE) and median absolute error (MAE) values for given training data set (X,r)."
   ]
  },
  {
   "cell_type": "code",
   "execution_count": 5,
   "id": "0306434a",
   "metadata": {},
   "outputs": [
    {
     "name": "stdout",
     "output_type": "stream",
     "text": [
      "\n",
      "Step 2: Compute RMSE and MAE for Training Data\n",
      "RMSE for training data: 0.6482234782789346\n",
      "MAE for training data: 0.5210125160462133\n"
     ]
    }
   ],
   "source": [
    "# Step 2: Compute RMSE and MAE for the Training Data\n",
    "f_X = w0 + w1 * X\n",
    "ei = f_X - r\n",
    "rmse = np.sqrt(np.mean(ei**2))\n",
    "mae = np.median(np.abs(ei))\n",
    "\n",
    "print(\"\\nStep 2: Compute RMSE and MAE for Training Data\")\n",
    "print(\"RMSE for training data:\", rmse)\n",
    "print(\"MAE for training data:\", mae)"
   ]
  },
  {
   "cell_type": "markdown",
   "id": "240bc833",
   "metadata": {},
   "source": [
    "2.3 What are the linear regression model predictions for the following test data?"
   ]
  },
  {
   "cell_type": "code",
   "execution_count": 6,
   "id": "60840f38",
   "metadata": {},
   "outputs": [
    {
     "name": "stdout",
     "output_type": "stream",
     "text": [
      "\n",
      "Step 3: Linear Regression Model Predictions for Test Data\n",
      "Predicted values for test data Z: [6.77724647 2.74245828 5.9366656  3.9192715  8.62652439]\n"
     ]
    }
   ],
   "source": [
    "# Step 3: Linear Regression Model Predictions for Test Data\n",
    "Z = np.array([-0.6, 1.8, -0.1, 1.1, -1.7])\n",
    "f_Z = w0 + w1 * Z\n",
    "\n",
    "print(\"\\nStep 3: Linear Regression Model Predictions for Test Data\")\n",
    "print(\"Predicted values for test data Z:\", f_Z)"
   ]
  },
  {
   "cell_type": "markdown",
   "id": "9b9198d4",
   "metadata": {},
   "source": [
    "2.4 Compute RMSE and MAE values for given test data set (Z,u)."
   ]
  },
  {
   "cell_type": "code",
   "execution_count": 7,
   "id": "da120823",
   "metadata": {},
   "outputs": [
    {
     "name": "stdout",
     "output_type": "stream",
     "text": [
      "\n",
      "Step 4: Compute RMSE and MAE for Test Data\n",
      "RMSE for test data: 1.7234311575258023\n",
      "MAE for test data: 1.6772464698331184\n"
     ]
    }
   ],
   "source": [
    "# Step 4: Compute RMSE and MAE for Test Data\n",
    "u = np.array([5.1, -0.2, 6.5, 2.2, 8.3])\n",
    "ei_test = f_Z - u\n",
    "rmse_test = np.sqrt(np.mean(ei_test**2))\n",
    "mae_test = np.median(np.abs(ei_test))\n",
    "\n",
    "print(\"\\nStep 4: Compute RMSE and MAE for Test Data\")\n",
    "print(\"RMSE for test data:\", rmse_test)\n",
    "print(\"MAE for test data:\", mae_test)"
   ]
  },
  {
   "cell_type": "markdown",
   "id": "f59771bf",
   "metadata": {},
   "source": [
    "# Question3"
   ]
  },
  {
   "cell_type": "code",
   "execution_count": 8,
   "id": "037ba696",
   "metadata": {},
   "outputs": [
    {
     "name": "stdout",
     "output_type": "stream",
     "text": [
      "Requirement already satisfied: matplotlib in c:\\users\\aksha\\anaconda3\\lib\\site-packages (3.5.1)\n",
      "Requirement already satisfied: numpy in c:\\users\\aksha\\anaconda3\\lib\\site-packages (1.25.2)\n",
      "Requirement already satisfied: pyparsing>=2.2.1 in c:\\users\\aksha\\anaconda3\\lib\\site-packages (from matplotlib) (3.0.4)\n",
      "Requirement already satisfied: pillow>=6.2.0 in c:\\users\\aksha\\anaconda3\\lib\\site-packages (from matplotlib) (9.0.1)\n",
      "Requirement already satisfied: packaging>=20.0 in c:\\users\\aksha\\anaconda3\\lib\\site-packages (from matplotlib) (21.3)\n",
      "Requirement already satisfied: kiwisolver>=1.0.1 in c:\\users\\aksha\\anaconda3\\lib\\site-packages (from matplotlib) (1.3.2)\n",
      "Requirement already satisfied: cycler>=0.10 in c:\\users\\aksha\\anaconda3\\lib\\site-packages (from matplotlib) (0.11.0)\n",
      "Requirement already satisfied: python-dateutil>=2.7 in c:\\users\\aksha\\anaconda3\\lib\\site-packages (from matplotlib) (2.8.2)\n",
      "Requirement already satisfied: fonttools>=4.22.0 in c:\\users\\aksha\\anaconda3\\lib\\site-packages (from matplotlib) (4.25.0)\n",
      "Requirement already satisfied: six>=1.5 in c:\\users\\aksha\\anaconda3\\lib\\site-packages (from python-dateutil>=2.7->matplotlib) (1.16.0)\n",
      "Note: you may need to restart the kernel to use updated packages.\n"
     ]
    }
   ],
   "source": [
    "pip install matplotlib numpy"
   ]
  },
  {
   "cell_type": "code",
   "execution_count": 9,
   "id": "d27543c3",
   "metadata": {},
   "outputs": [],
   "source": [
    "import matplotlib.pyplot as plt\n",
    "import numpy as np\n",
    "\n",
    "# Given data and centers\n",
    "data_dict = {\n",
    "    (2.0, 3.43, 4.37): 2,\n",
    "    (2.49, 4.28, 4.83): 2,\n",
    "    (2.58, 4.36, 4.48): 2,\n",
    "    (2.66, 4.45, 5.95): 2,\n",
    "    (2.82, 3.66, 4.51): 2,\n",
    "    (3.03, 4.37, 5.07): 2,\n",
    "    (3.27, 4.54, 4.57): 2,\n",
    "    (3.41, 3.94, 5.35): 2,\n",
    "    (3.53, 4.32, 5.41): 2,\n",
    "    (3.53, 4.6, 6.8): 1,\n",
    "    (3.61, 4.25, 5.21): 1,\n",
    "    (3.61, 4.78, 5.47): 1,\n",
    "    (3.72, 5.44, 5.88): 1,\n",
    "    (3.87, 4.96, 4.52): 2,\n",
    "    (4.13, 5.29, 6.6): 1,\n",
    "    (4.25, 5.97, 5.48): 1,\n",
    "    (4.61, 4.9, 5.11): 1,\n",
    "    (4.73, 4.4, 6.78): 1,\n",
    "    (4.97, 4.25, 5.0): 1,\n",
    "    (4.98, 5.27, 6.79): 1,\n",
    "    (5.08, 3.51, 4.69): 3,\n",
    "    (5.15, 3.58, 4.2): 3,\n",
    "    (5.67, 2.27, 4.65): 3,\n",
    "    (5.67, 3.81, 5.75): 3,\n",
    "    (5.94, 2.34, 4.12): 3,\n",
    "    (6.06, 3.16, 4.36): 3,\n",
    "    (6.09, 3.19, 4.02): 3,\n",
    "    (6.43, 3.42, 4.18): 3,\n",
    "    (6.56, 2.7, 4.03): 3,\n",
    "    (6.79, 3.46, 4.81): 3\n",
    "}\n",
    "\n",
    "\n",
    "#initial cluster centers that are chosen for each class\n",
    "centers_dict = {\n",
    "    (3, 4, 5): 1,\n",
    "    (4, 5, 6): 2,\n",
    "    (6, 3, 5): 3\n",
    "}"
   ]
  },
  {
   "cell_type": "code",
   "execution_count": 10,
   "id": "76128554",
   "metadata": {},
   "outputs": [
    {
     "name": "stdout",
     "output_type": "stream",
     "text": [
      "Number of correctly classified instances for p = 1: {1: 2, 2: 1, 3: 10}\n",
      "Number of correctly classified instances for p = 2: {1: 1, 2: 0, 3: 10}\n",
      "Number of correctly classified instances for p = 3: {1: 1, 2: 0, 3: 10}\n"
     ]
    }
   ],
   "source": [
    "# Minkowski distance\n",
    "def minkowski_distance(x, c, p):\n",
    "    return sum(np.abs(c_i - x_i) ** p for x_i, c_i in zip(x, c)) ** (1/p)\n",
    "\n",
    "# Storing correctly classified counts for each p\n",
    "correctly_classified_p1 = {1: 0, 2: 0, 3: 0}\n",
    "correctly_classified_p2 = {1: 0, 2: 0, 3: 0}\n",
    "correctly_classified_p3 = {1: 0, 2: 0, 3: 0}\n",
    "\n",
    "# Iterate through data points and calculate correctly classified instances for each p\n",
    "for data_point, true_label in data_dict.items():\n",
    "    for p in [1, 2, 3]:\n",
    "        min_distance = float('inf')\n",
    "        classified_class = None\n",
    "        for center, class_label in centers_dict.items():\n",
    "            distance = minkowski_distance(data_point, center, p)\n",
    "            if distance < min_distance:\n",
    "                min_distance = distance\n",
    "                classified_class = class_label\n",
    "        if classified_class == true_label:\n",
    "            if p == 1:\n",
    "                correctly_classified_p1[true_label] += 1\n",
    "            elif p == 2:\n",
    "                correctly_classified_p2[true_label] += 1\n",
    "            elif p == 3:\n",
    "                correctly_classified_p3[true_label] += 1\n",
    "\n",
    "# Print results\n",
    "print(\"Number of correctly classified instances for p = 1:\", correctly_classified_p1)\n",
    "print(\"Number of correctly classified instances for p = 2:\", correctly_classified_p2)\n",
    "print(\"Number of correctly classified instances for p = 3:\", correctly_classified_p3)"
   ]
  },
  {
   "cell_type": "code",
   "execution_count": 11,
   "id": "8ed3befb",
   "metadata": {},
   "outputs": [
    {
     "data": {
      "image/png": "[encoded data removed]",
      "text/plain": [
       "<Figure size 432x288 with 1 Axes>"
      ]
     },
     "metadata": {
      "needs_background": "light"
     },
     "output_type": "display_data"
    }
   ],
   "source": [
    "# Visualizing results\n",
    "labels = ['Class 1', 'Class 2', 'Class 3']\n",
    "p1_counts = [correctly_classified_p1[1], correctly_classified_p1[2], correctly_classified_p1[3]]\n",
    "p2_counts = [correctly_classified_p2[1], correctly_classified_p2[2], correctly_classified_p2[3]]\n",
    "p3_counts = [correctly_classified_p3[1], correctly_classified_p3[2], correctly_classified_p3[3]]\n",
    "\n",
    "x = np.arange(len(labels))\n",
    "width = 0.2\n",
    "\n",
    "fig, ax = plt.subplots()\n",
    "rects1 = ax.bar(x - width, p1_counts, width, label='p = 1')\n",
    "rects2 = ax.bar(x, p2_counts, width, label='p = 2')\n",
    "rects3 = ax.bar(x + width, p3_counts, width, label='p = 3')\n",
    "\n",
    "ax.set_ylabel('Correctly Classified Instances')\n",
    "ax.set_title('Correctly Classified Instances by Class and Distance Metric')\n",
    "ax.set_xticks(x)\n",
    "ax.set_xticklabels(labels)\n",
    "ax.legend()\n",
    "\n",
    "fig.tight_layout()\n",
    "\n",
    "plt.show()"
   ]
  }
 ],
 "metadata": {
  "kernelspec": {
   "display_name": "Python 3 (ipykernel)",
   "language": "python",
   "name": "python3"
  },
  "language_info": {
   "codemirror_mode": {
    "name": "ipython",
    "version": 3
   },
   "file_extension": ".py",
   "mimetype": "text/x-python",
   "name": "python",
   "nbconvert_exporter": "python",
   "pygments_lexer": "ipython3",
   "version": "3.9.12"
  }
 },
 "nbformat": 4,
 "nbformat_minor": 5
}
